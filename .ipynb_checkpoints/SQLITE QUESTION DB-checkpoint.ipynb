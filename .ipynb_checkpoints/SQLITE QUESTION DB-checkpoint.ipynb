{
 "cells": [
  {
   "cell_type": "code",
   "execution_count": 1,
   "metadata": {},
   "outputs": [
    {
     "data": {
      "text/html": [
       "<div>\n",
       "<style scoped>\n",
       "    .dataframe tbody tr th:only-of-type {\n",
       "        vertical-align: middle;\n",
       "    }\n",
       "\n",
       "    .dataframe tbody tr th {\n",
       "        vertical-align: top;\n",
       "    }\n",
       "\n",
       "    .dataframe thead th {\n",
       "        text-align: right;\n",
       "    }\n",
       "</style>\n",
       "<table border=\"1\" class=\"dataframe\">\n",
       "  <thead>\n",
       "    <tr style=\"text-align: right;\">\n",
       "      <th></th>\n",
       "      <th>question</th>\n",
       "      <th>A</th>\n",
       "      <th>B</th>\n",
       "      <th>C</th>\n",
       "      <th>D</th>\n",
       "      <th>answer</th>\n",
       "    </tr>\n",
       "  </thead>\n",
       "  <tbody>\n",
       "    <tr>\n",
       "      <th>542</th>\n",
       "      <td>Who wrote musicals with Oscar Hammerstein II?</td>\n",
       "      <td>Richard Rodgers</td>\n",
       "      <td>Rogers Hornsby</td>\n",
       "      <td>Gilbert O' Sullivan</td>\n",
       "      <td>George Rogers Clark</td>\n",
       "      <td>A</td>\n",
       "    </tr>\n",
       "    <tr>\n",
       "      <th>543</th>\n",
       "      <td>Who wrote the lyrics of the Frank Sinatra anth...</td>\n",
       "      <td>Frank Sinatra</td>\n",
       "      <td>Kris Krist offerson</td>\n",
       "      <td>Carole King</td>\n",
       "      <td>Paul Anka</td>\n",
       "      <td>D</td>\n",
       "    </tr>\n",
       "    <tr>\n",
       "      <th>544</th>\n",
       "      <td>Whom did Billie Jean King defeat in the famous...</td>\n",
       "      <td>Jimmy Connors</td>\n",
       "      <td>Pete Sampras</td>\n",
       "      <td>John McEnroe</td>\n",
       "      <td>Bobby Riggs</td>\n",
       "      <td>D</td>\n",
       "    </tr>\n",
       "    <tr>\n",
       "      <th>545</th>\n",
       "      <td>Whose profile can you see on the front of dime...</td>\n",
       "      <td>George Washington</td>\n",
       "      <td>Thomas Jefferson</td>\n",
       "      <td>Benjamin Franklin</td>\n",
       "      <td>Franklin Roosevelt</td>\n",
       "      <td>D</td>\n",
       "    </tr>\n",
       "    <tr>\n",
       "      <th>546</th>\n",
       "      <td>With what would you use a wah-wah pedal?</td>\n",
       "      <td>bicycle</td>\n",
       "      <td>stock car</td>\n",
       "      <td>electric guitar</td>\n",
       "      <td>baby</td>\n",
       "      <td>C</td>\n",
       "    </tr>\n",
       "  </tbody>\n",
       "</table>\n",
       "</div>"
      ],
      "text/plain": [
       "                                              question                  A  \\\n",
       "542      Who wrote musicals with Oscar Hammerstein II?    Richard Rodgers   \n",
       "543  Who wrote the lyrics of the Frank Sinatra anth...      Frank Sinatra   \n",
       "544  Whom did Billie Jean King defeat in the famous...      Jimmy Connors   \n",
       "545  Whose profile can you see on the front of dime...  George Washington   \n",
       "546           With what would you use a wah-wah pedal?            bicycle   \n",
       "\n",
       "                       B                    C                    D answer  \n",
       "542       Rogers Hornsby  Gilbert O' Sullivan  George Rogers Clark      A  \n",
       "543  Kris Krist offerson          Carole King            Paul Anka      D  \n",
       "544         Pete Sampras         John McEnroe          Bobby Riggs      D  \n",
       "545     Thomas Jefferson    Benjamin Franklin   Franklin Roosevelt      D  \n",
       "546            stock car      electric guitar                 baby      C  "
      ]
     },
     "execution_count": 1,
     "metadata": {},
     "output_type": "execute_result"
    }
   ],
   "source": [
    "# Importing libraries\n",
    "import csv\n",
    "import json\n",
    "import pandas as pd\n",
    "\n",
    "# Pandas reading existing questions CSV\n",
    "question_table = pd.read_json(\"WWTBAM_JSON_File.json\")\n",
    "question_table.tail(5)"
   ]
  },
  {
   "cell_type": "code",
   "execution_count": 2,
   "metadata": {},
   "outputs": [
    {
     "data": {
      "text/html": [
       "<div>\n",
       "<style scoped>\n",
       "    .dataframe tbody tr th:only-of-type {\n",
       "        vertical-align: middle;\n",
       "    }\n",
       "\n",
       "    .dataframe tbody tr th {\n",
       "        vertical-align: top;\n",
       "    }\n",
       "\n",
       "    .dataframe thead th {\n",
       "        text-align: right;\n",
       "    }\n",
       "</style>\n",
       "<table border=\"1\" class=\"dataframe\">\n",
       "  <thead>\n",
       "    <tr style=\"text-align: right;\">\n",
       "      <th></th>\n",
       "      <th>User Name</th>\n",
       "    </tr>\n",
       "  </thead>\n",
       "  <tbody>\n",
       "    <tr>\n",
       "      <th>0</th>\n",
       "      <td>Giamnator</td>\n",
       "    </tr>\n",
       "  </tbody>\n",
       "</table>\n",
       "</div>"
      ],
      "text/plain": [
       "   User Name\n",
       "0  Giamnator"
      ]
     },
     "execution_count": 2,
     "metadata": {},
     "output_type": "execute_result"
    }
   ],
   "source": [
    "# Pandas reading existing questions CSV\n",
    "login_table = pd.read_csv(\"username_table.csv\")\n",
    "login_table.tail(5)"
   ]
  },
  {
   "cell_type": "code",
   "execution_count": 3,
   "metadata": {},
   "outputs": [
    {
     "data": {
      "text/html": [
       "<div>\n",
       "<style scoped>\n",
       "    .dataframe tbody tr th:only-of-type {\n",
       "        vertical-align: middle;\n",
       "    }\n",
       "\n",
       "    .dataframe tbody tr th {\n",
       "        vertical-align: top;\n",
       "    }\n",
       "\n",
       "    .dataframe thead th {\n",
       "        text-align: right;\n",
       "    }\n",
       "</style>\n",
       "<table border=\"1\" class=\"dataframe\">\n",
       "  <thead>\n",
       "    <tr style=\"text-align: right;\">\n",
       "      <th></th>\n",
       "      <th>Game</th>\n",
       "      <th>Match</th>\n",
       "      <th>Match Score</th>\n",
       "      <th>Username</th>\n",
       "      <th>Date</th>\n",
       "    </tr>\n",
       "  </thead>\n",
       "  <tbody>\n",
       "    <tr>\n",
       "      <th>0</th>\n",
       "      <td>1</td>\n",
       "      <td>1</td>\n",
       "      <td>0</td>\n",
       "      <td>Giaminator</td>\n",
       "      <td>3/20/2021</td>\n",
       "    </tr>\n",
       "  </tbody>\n",
       "</table>\n",
       "</div>"
      ],
      "text/plain": [
       "   Game  Match  Match Score    Username       Date\n",
       "0     1      1            0  Giaminator  3/20/2021"
      ]
     },
     "execution_count": 3,
     "metadata": {},
     "output_type": "execute_result"
    }
   ],
   "source": [
    "# Pandas reading existing questions CSV\n",
    "scoring_table = pd.read_csv(\"scoring_table.csv\")\n",
    "scoring_table.tail(5)"
   ]
  },
  {
   "cell_type": "code",
   "execution_count": 4,
   "metadata": {},
   "outputs": [],
   "source": [
    "# Importing sqlalchemy for DB creation\n",
    "from sqlalchemy import create_engine\n",
    "\n",
    "# Creating engine variable that opens sqlite DB\n",
    "engine = create_engine(f\"sqlite:///trivia_db.db\")\n",
    "\n",
    "# Naming Question SQL Table and replace any old versions \n",
    "question_table.to_sql(name = 'question_table', con = engine, if_exists='replace', index=False)\n",
    "\n",
    "# Naming Login SQL Table and replace any old versions \n",
    "login_table.to_sql(name = 'login_table', con = engine, if_exists='replace', index=False)\n",
    "\n",
    "# Naming Scoring SQL Table and replace any old versions \n",
    "scoring_table.to_sql(name = 'scoring_table', con = engine, if_exists='replace', index=False)"
   ]
  },
  {
   "cell_type": "code",
   "execution_count": 5,
   "metadata": {},
   "outputs": [
    {
     "data": {
      "text/plain": [
       "['Trivia_question_table', 'login_table', 'question_table', 'scoring_table']"
      ]
     },
     "execution_count": 5,
     "metadata": {},
     "output_type": "execute_result"
    }
   ],
   "source": [
    "# Show the names of the tables in the DB\n",
    "engine.table_names()"
   ]
  },
  {
   "cell_type": "code",
   "execution_count": 22,
   "metadata": {},
   "outputs": [],
   "source": [
    "# https://pythontic.com/database/sqlite/drop%20table\n",
    "import sqlite3\n",
    "\n",
    "connection  = sqlite3.connect(\"trivia_db.db\")\n",
    "\n",
    "cursor      = connection.cursor()\n",
    "\n",
    "dropTableStatement = \"DROP TABLE IF EXISTS Trivia_question_table\"\n",
    "\n",
    "cursor.execute(dropTableStatement)\n",
    "\n",
    "connection.close()"
   ]
  },
  {
   "cell_type": "code",
   "execution_count": 23,
   "metadata": {},
   "outputs": [
    {
     "data": {
      "text/plain": [
       "['login_table', 'question_table', 'scoring_table']"
      ]
     },
     "execution_count": 23,
     "metadata": {},
     "output_type": "execute_result"
    }
   ],
   "source": [
    "# Show the names of the tables in the DB\n",
    "engine.table_names()"
   ]
  },
  {
   "cell_type": "code",
   "execution_count": null,
   "metadata": {},
   "outputs": [],
   "source": []
  }
 ],
 "metadata": {
  "kernelspec": {
   "display_name": "Python 3",
   "language": "python",
   "name": "python3"
  },
  "language_info": {
   "codemirror_mode": {
    "name": "ipython",
    "version": 3
   },
   "file_extension": ".py",
   "mimetype": "text/x-python",
   "name": "python",
   "nbconvert_exporter": "python",
   "pygments_lexer": "ipython3",
   "version": "3.7.6"
  }
 },
 "nbformat": 4,
 "nbformat_minor": 4
}
