{
 "cells": [
  {
   "cell_type": "code",
   "execution_count": 1,
   "metadata": {},
   "outputs": [
    {
     "data": {
      "text/html": [
       "<div>\n",
       "<style scoped>\n",
       "    .dataframe tbody tr th:only-of-type {\n",
       "        vertical-align: middle;\n",
       "    }\n",
       "\n",
       "    .dataframe tbody tr th {\n",
       "        vertical-align: top;\n",
       "    }\n",
       "\n",
       "    .dataframe thead th {\n",
       "        text-align: right;\n",
       "    }\n",
       "</style>\n",
       "<table border=\"1\" class=\"dataframe\">\n",
       "  <thead>\n",
       "    <tr style=\"text-align: right;\">\n",
       "      <th></th>\n",
       "      <th>Question</th>\n",
       "      <th>Answer</th>\n",
       "      <th>Wrong 1</th>\n",
       "      <th>Wrong 2</th>\n",
       "      <th>Wrong 3</th>\n",
       "    </tr>\n",
       "  </thead>\n",
       "  <tbody>\n",
       "    <tr>\n",
       "      <th>0</th>\n",
       "      <td>What was Homer Simpson's dogs name?</td>\n",
       "      <td>Santa's little helper</td>\n",
       "      <td>Snoopy</td>\n",
       "      <td>Rally</td>\n",
       "      <td>Snowball</td>\n",
       "    </tr>\n",
       "    <tr>\n",
       "      <th>1</th>\n",
       "      <td>Which of these was not a Friend?</td>\n",
       "      <td>Milhouse</td>\n",
       "      <td>Phoebe</td>\n",
       "      <td>Ross</td>\n",
       "      <td>Joey</td>\n",
       "    </tr>\n",
       "  </tbody>\n",
       "</table>\n",
       "</div>"
      ],
      "text/plain": [
       "                              Question                 Answer Wrong 1 Wrong 2  \\\n",
       "0  What was Homer Simpson's dogs name?  Santa's little helper  Snoopy   Rally   \n",
       "1     Which of these was not a Friend?               Milhouse  Phoebe    Ross   \n",
       "\n",
       "    Wrong 3  \n",
       "0  Snowball  \n",
       "1      Joey  "
      ]
     },
     "execution_count": 1,
     "metadata": {},
     "output_type": "execute_result"
    }
   ],
   "source": [
    "# Importing libraries\n",
    "import csv\n",
    "import json\n",
    "import pandas as pd\n",
    "\n",
    "# Pandas reading existing questions CSV\n",
    "questionDB = pd.read_json(\"WWTBAM_JSON_File.json\")\n",
    "questionDB"
   ]
  },
  {
   "cell_type": "code",
   "execution_count": 2,
   "metadata": {},
   "outputs": [],
   "source": [
    "# Importing sqlalchemy for DB creation\n",
    "from sqlalchemy import create_engine\n",
    "\n",
    "# Creating engine variable that opens sqlite DB\n",
    "engine = create_engine(f\"sqlite:///trivia_db.db\")\n",
    "\n",
    "# Naming SQL Table and replace any old versions \n",
    "questionDB.to_sql(name = 'Trivia_question_table', con = engine, if_exists='replace', index=False)"
   ]
  },
  {
   "cell_type": "code",
   "execution_count": 3,
   "metadata": {},
   "outputs": [
    {
     "data": {
      "text/plain": [
       "['Trivia_question_table']"
      ]
     },
     "execution_count": 3,
     "metadata": {},
     "output_type": "execute_result"
    }
   ],
   "source": [
    "# Show the names of the tables in the DB\n",
    "engine.table_names()"
   ]
  },
  {
   "cell_type": "code",
   "execution_count": 5,
   "metadata": {},
   "outputs": [
    {
     "data": {
      "text/html": [
       "<div>\n",
       "<style scoped>\n",
       "    .dataframe tbody tr th:only-of-type {\n",
       "        vertical-align: middle;\n",
       "    }\n",
       "\n",
       "    .dataframe tbody tr th {\n",
       "        vertical-align: top;\n",
       "    }\n",
       "\n",
       "    .dataframe thead th {\n",
       "        text-align: right;\n",
       "    }\n",
       "</style>\n",
       "<table border=\"1\" class=\"dataframe\">\n",
       "  <thead>\n",
       "    <tr style=\"text-align: right;\">\n",
       "      <th></th>\n",
       "      <th>Question</th>\n",
       "      <th>Answer</th>\n",
       "      <th>Wrong 1</th>\n",
       "      <th>Wrong 2</th>\n",
       "      <th>Wrong 3</th>\n",
       "    </tr>\n",
       "  </thead>\n",
       "  <tbody>\n",
       "    <tr>\n",
       "      <th>0</th>\n",
       "      <td>What was Homer Simpson's dogs name?</td>\n",
       "      <td>Santa's little helper</td>\n",
       "      <td>Snoopy</td>\n",
       "      <td>Rally</td>\n",
       "      <td>Snowball</td>\n",
       "    </tr>\n",
       "    <tr>\n",
       "      <th>1</th>\n",
       "      <td>Which of these was not a Friend?</td>\n",
       "      <td>Milhouse</td>\n",
       "      <td>Phoebe</td>\n",
       "      <td>Ross</td>\n",
       "      <td>Joey</td>\n",
       "    </tr>\n",
       "  </tbody>\n",
       "</table>\n",
       "</div>"
      ],
      "text/plain": [
       "                              Question                 Answer Wrong 1 Wrong 2  \\\n",
       "0  What was Homer Simpson's dogs name?  Santa's little helper  Snoopy   Rally   \n",
       "1     Which of these was not a Friend?               Milhouse  Phoebe    Ross   \n",
       "\n",
       "    Wrong 3  \n",
       "0  Snowball  \n",
       "1      Joey  "
      ]
     },
     "execution_count": 5,
     "metadata": {},
     "output_type": "execute_result"
    }
   ],
   "source": [
    "# Pandas reading existing questions SQL\n",
    "question_table = pd.read_sql('SELECT * FROM Trivia_question_table', con=engine)\n",
    "question_table.head()"
   ]
  },
  {
   "cell_type": "code",
   "execution_count": null,
   "metadata": {},
   "outputs": [],
   "source": []
  }
 ],
 "metadata": {
  "kernelspec": {
   "display_name": "Python 3",
   "language": "python",
   "name": "python3"
  },
  "language_info": {
   "codemirror_mode": {
    "name": "ipython",
    "version": 3
   },
   "file_extension": ".py",
   "mimetype": "text/x-python",
   "name": "python",
   "nbconvert_exporter": "python",
   "pygments_lexer": "ipython3",
   "version": "3.7.6"
  }
 },
 "nbformat": 4,
 "nbformat_minor": 4
}
